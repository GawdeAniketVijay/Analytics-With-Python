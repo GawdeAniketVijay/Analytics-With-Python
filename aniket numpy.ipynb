{
 "cells": [
  {
   "cell_type": "code",
   "execution_count": 1,
   "id": "3f49ce37",
   "metadata": {},
   "outputs": [
    {
     "name": "stdout",
     "output_type": "stream",
     "text": [
      "Requirement already satisfied: numpy in c:\\programdata\\anaconda3\\lib\\site-packages (1.20.1)\n"
     ]
    }
   ],
   "source": [
    "!pip install numpy"
   ]
  },
  {
   "cell_type": "code",
   "execution_count": 2,
   "id": "cb62b121",
   "metadata": {},
   "outputs": [],
   "source": [
    "import numpy as np #np is a alias name of numpy module"
   ]
  },
  {
   "cell_type": "code",
   "execution_count": 3,
   "id": "06312384",
   "metadata": {},
   "outputs": [
    {
     "data": {
      "text/plain": [
       "'1.20.1'"
      ]
     },
     "execution_count": 3,
     "metadata": {},
     "output_type": "execute_result"
    }
   ],
   "source": [
    "np.__version__"
   ]
  },
  {
   "cell_type": "markdown",
   "id": "612e9de4",
   "metadata": {},
   "source": [
    "# create a 1D array"
   ]
  },
  {
   "cell_type": "code",
   "execution_count": 4,
   "id": "2999b834",
   "metadata": {},
   "outputs": [],
   "source": [
    "#1D array means list of array\n",
    "#array() inbuilt method of numpy\n",
    "a=np.array([89,85,96,75,48,55,78,83])#a is numpy array object"
   ]
  },
  {
   "cell_type": "code",
   "execution_count": 5,
   "id": "8e6c0be8",
   "metadata": {},
   "outputs": [
    {
     "name": "stdout",
     "output_type": "stream",
     "text": [
      "[89 85 96 75 48 55 78 83]\n"
     ]
    }
   ],
   "source": [
    "print(a)"
   ]
  },
  {
   "cell_type": "code",
   "execution_count": 6,
   "id": "a8a7e530",
   "metadata": {},
   "outputs": [
    {
     "data": {
      "text/plain": [
       "1"
      ]
     },
     "execution_count": 6,
     "metadata": {},
     "output_type": "execute_result"
    }
   ],
   "source": [
    "#to check the dimension of array a,use inbuilt method ndim of numpy\n",
    "a.ndim"
   ]
  },
  {
   "cell_type": "code",
   "execution_count": 7,
   "id": "d64f59b3",
   "metadata": {},
   "outputs": [
    {
     "data": {
      "text/plain": [
       "dtype('int32')"
      ]
     },
     "execution_count": 7,
     "metadata": {},
     "output_type": "execute_result"
    }
   ],
   "source": [
    "#to check type of array\n",
    "a.dtype"
   ]
  },
  {
   "cell_type": "code",
   "execution_count": 8,
   "id": "a659ad13",
   "metadata": {},
   "outputs": [
    {
     "data": {
      "text/plain": [
       "numpy.ndarray"
      ]
     },
     "execution_count": 8,
     "metadata": {},
     "output_type": "execute_result"
    }
   ],
   "source": [
    "#to check the datatype of a\n",
    "type(a)#here nd means no.of dimension"
   ]
  },
  {
   "cell_type": "code",
   "execution_count": 9,
   "id": "fc648e6c",
   "metadata": {},
   "outputs": [
    {
     "data": {
      "text/plain": [
       "8"
      ]
     },
     "execution_count": 9,
     "metadata": {},
     "output_type": "execute_result"
    }
   ],
   "source": [
    "#how many element in numpy array a, use inbuilt method size\n",
    "a.size"
   ]
  },
  {
   "cell_type": "code",
   "execution_count": 10,
   "id": "d4bd8cc1",
   "metadata": {},
   "outputs": [
    {
     "data": {
      "text/plain": [
       "(8,)"
      ]
     },
     "execution_count": 10,
     "metadata": {},
     "output_type": "execute_result"
    }
   ],
   "source": [
    "#how many rows and columns in given numpy array a,use inbuilt shape\n",
    "#its return answer in tuple\n",
    "a.shape"
   ]
  },
  {
   "cell_type": "code",
   "execution_count": 11,
   "id": "f23e976c",
   "metadata": {},
   "outputs": [
    {
     "data": {
      "text/plain": [
       "4"
      ]
     },
     "execution_count": 11,
     "metadata": {},
     "output_type": "execute_result"
    }
   ],
   "source": [
    "#each element occupy 4bytes memory space of array a\n",
    "a.itemsize"
   ]
  },
  {
   "cell_type": "code",
   "execution_count": 12,
   "id": "aef7a867",
   "metadata": {},
   "outputs": [
    {
     "data": {
      "text/plain": [
       "32"
      ]
     },
     "execution_count": 12,
     "metadata": {},
     "output_type": "execute_result"
    }
   ],
   "source": [
    "#to find the total no.of bytes occupy by array a\n",
    "#use inbuilt method nbytes\n",
    "a.nbytes"
   ]
  },
  {
   "cell_type": "code",
   "execution_count": 13,
   "id": "e5b951a5",
   "metadata": {},
   "outputs": [
    {
     "data": {
      "text/plain": [
       "8"
      ]
     },
     "execution_count": 13,
     "metadata": {},
     "output_type": "execute_result"
    }
   ],
   "source": [
    "#to find no.of element in numpy array\n",
    "#1.size inbuilt method or 2.len():inbuilt function\n",
    "a.size"
   ]
  },
  {
   "cell_type": "code",
   "execution_count": 14,
   "id": "cfa23050",
   "metadata": {},
   "outputs": [
    {
     "data": {
      "text/plain": [
       "8"
      ]
     },
     "execution_count": 14,
     "metadata": {},
     "output_type": "execute_result"
    }
   ],
   "source": [
    "len(a)"
   ]
  },
  {
   "cell_type": "code",
   "execution_count": 15,
   "id": "168a17a7",
   "metadata": {},
   "outputs": [
    {
     "name": "stdout",
     "output_type": "stream",
     "text": [
      "[45 52 62 34 48]\n",
      "data type of a: int32\n"
     ]
    }
   ],
   "source": [
    "#create a 1D array with int type\n",
    "a=np.array([45,52,62,34.2,48],int)#with the use of (int)we can change float into int\n",
    "print(a)\n",
    "print('data type of a:',a.dtype)"
   ]
  },
  {
   "cell_type": "code",
   "execution_count": 16,
   "id": "e0a6856a",
   "metadata": {},
   "outputs": [
    {
     "data": {
      "text/plain": [
       "62"
      ]
     },
     "execution_count": 16,
     "metadata": {},
     "output_type": "execute_result"
    }
   ],
   "source": [
    "#there are 2types of access data from 1D numpy array\n",
    "#1.through indexing\n",
    "#access 3rd element(means 2 index)from 1Dnumpy array a\n",
    "a[2]"
   ]
  },
  {
   "cell_type": "code",
   "execution_count": 17,
   "id": "de2a6405",
   "metadata": {},
   "outputs": [
    {
     "data": {
      "text/plain": [
       "array([52, 48])"
      ]
     },
     "execution_count": 17,
     "metadata": {},
     "output_type": "execute_result"
    }
   ],
   "source": [
    "#access multiple elements from 1D numpy array then\n",
    "#first create a list of index\n",
    "#suppose access value at 1st and 4th index from 1D array\n",
    "i=[1,4]#create the list of index\n",
    "a[i]"
   ]
  },
  {
   "cell_type": "code",
   "execution_count": 18,
   "id": "c20d9e4e",
   "metadata": {},
   "outputs": [
    {
     "data": {
      "text/plain": [
       "array([52, 62, 34])"
      ]
     },
     "execution_count": 18,
     "metadata": {},
     "output_type": "execute_result"
    }
   ],
   "source": [
    "#2.slicing[start index:stop index:step]\n",
    "a[1:4]"
   ]
  },
  {
   "cell_type": "code",
   "execution_count": 19,
   "id": "33f973a3",
   "metadata": {},
   "outputs": [
    {
     "data": {
      "text/plain": [
       "array([34, 48])"
      ]
     },
     "execution_count": 19,
     "metadata": {},
     "output_type": "execute_result"
    }
   ],
   "source": [
    "#access element from 3rd index till the end\n",
    "a[3:]"
   ]
  },
  {
   "cell_type": "code",
   "execution_count": 20,
   "id": "df189ba8",
   "metadata": {},
   "outputs": [
    {
     "data": {
      "text/plain": [
       "array([62, 34])"
      ]
     },
     "execution_count": 20,
     "metadata": {},
     "output_type": "execute_result"
    }
   ],
   "source": [
    "a[-3:-1]"
   ]
  },
  {
   "cell_type": "code",
   "execution_count": 21,
   "id": "c6955407",
   "metadata": {},
   "outputs": [
    {
     "data": {
      "text/plain": [
       "array([48, 34, 62, 52, 45])"
      ]
     },
     "execution_count": 21,
     "metadata": {},
     "output_type": "execute_result"
    }
   ],
   "source": [
    "a[::-1]#for reverse"
   ]
  },
  {
   "cell_type": "code",
   "execution_count": 22,
   "id": "e2361328",
   "metadata": {},
   "outputs": [
    {
     "data": {
      "text/plain": [
       "array([62, 34, 48])"
      ]
     },
     "execution_count": 22,
     "metadata": {},
     "output_type": "execute_result"
    }
   ],
   "source": [
    "#to show last 3element\n",
    "a[-3:]"
   ]
  },
  {
   "cell_type": "code",
   "execution_count": 23,
   "id": "445c8303",
   "metadata": {},
   "outputs": [
    {
     "name": "stdout",
     "output_type": "stream",
     "text": [
      "45\n",
      "52\n",
      "62\n",
      "34\n",
      "48\n"
     ]
    }
   ],
   "source": [
    "#to access element one by from numpy ARRAY a then use iteration mens\n",
    "#for loop \n",
    "for item in a:\n",
    "    print(item)"
   ]
  },
  {
   "cell_type": "code",
   "execution_count": 24,
   "id": "60ef73da",
   "metadata": {},
   "outputs": [
    {
     "data": {
      "text/plain": [
       "241"
      ]
     },
     "execution_count": 24,
     "metadata": {},
     "output_type": "execute_result"
    }
   ],
   "source": [
    "#to find the sum of element in a\n",
    "a.sum()"
   ]
  },
  {
   "cell_type": "code",
   "execution_count": 25,
   "id": "de7ec460",
   "metadata": {},
   "outputs": [
    {
     "data": {
      "text/plain": [
       "48.2"
      ]
     },
     "execution_count": 25,
     "metadata": {},
     "output_type": "execute_result"
    }
   ],
   "source": [
    "#to find average of element in a\n",
    "a.mean()"
   ]
  },
  {
   "cell_type": "code",
   "execution_count": 26,
   "id": "548a136a",
   "metadata": {},
   "outputs": [
    {
     "data": {
      "text/plain": [
       "62"
      ]
     },
     "execution_count": 26,
     "metadata": {},
     "output_type": "execute_result"
    }
   ],
   "source": [
    "a.max()"
   ]
  },
  {
   "cell_type": "code",
   "execution_count": 27,
   "id": "b4e9e5f7",
   "metadata": {},
   "outputs": [
    {
     "data": {
      "text/plain": [
       "34"
      ]
     },
     "execution_count": 27,
     "metadata": {},
     "output_type": "execute_result"
    }
   ],
   "source": [
    "a.min()"
   ]
  },
  {
   "cell_type": "code",
   "execution_count": 28,
   "id": "9576f9ca",
   "metadata": {},
   "outputs": [
    {
     "name": "stdout",
     "output_type": "stream",
     "text": [
      "[10 11 12 13 14 15 16 17 18 19 20]\n"
     ]
    }
   ],
   "source": [
    "#to create a 1D numpy array in another way:use arange()\n",
    "x=np.arange(10,21,1)\n",
    "print(x)"
   ]
  },
  {
   "cell_type": "code",
   "execution_count": 29,
   "id": "73d14282",
   "metadata": {},
   "outputs": [
    {
     "name": "stdout",
     "output_type": "stream",
     "text": [
      "matrix x:\n",
      "[[10 20 30 40]\n",
      " [50 60 70 80]\n",
      " [20 52 65 85]\n",
      " [45 65 85 96]]\n"
     ]
    }
   ],
   "source": [
    "#create 2D array menas two dimension numpy array\n",
    "#2D array means rows and in each row numpycolumns\n",
    "#each create a matrix\n",
    "#2Darray means list of list-->[[]]\n",
    "x=np.array([[10,20,30,40],[50,60,70,80],[20,52,65,85],[45,65,85,96]])\n",
    "print('matrix x:')\n",
    "print(x)"
   ]
  },
  {
   "cell_type": "code",
   "execution_count": 30,
   "id": "d25f2049",
   "metadata": {},
   "outputs": [
    {
     "data": {
      "text/plain": [
       "array([20, 52, 65, 85])"
      ]
     },
     "execution_count": 30,
     "metadata": {},
     "output_type": "execute_result"
    }
   ],
   "source": [
    "#to find out the marks of the student rows\n",
    "x[2,]"
   ]
  },
  {
   "cell_type": "code",
   "execution_count": 31,
   "id": "c48b29c2",
   "metadata": {},
   "outputs": [
    {
     "data": {
      "text/plain": [
       "70"
      ]
     },
     "execution_count": 31,
     "metadata": {},
     "output_type": "execute_result"
    }
   ],
   "source": [
    "#access data from 2Dnumpy array\n",
    "#1.indexing\n",
    "#access data from 2nd column of 1st row\n",
    "x[1,2]#matrix[rowindex,cloindex]"
   ]
  },
  {
   "cell_type": "code",
   "execution_count": 32,
   "id": "ea9aaa4c",
   "metadata": {},
   "outputs": [
    {
     "data": {
      "text/plain": [
       "array([[52, 65],\n",
       "       [65, 85]])"
      ]
     },
     "execution_count": 32,
     "metadata": {},
     "output_type": "execute_result"
    }
   ],
   "source": [
    "#access 1st and 2nd index col of 2nd and 3rd index rows\n",
    "x[2:4,1:3]#x[row index start:row index stop,col index start,col index stop]"
   ]
  },
  {
   "cell_type": "code",
   "execution_count": 33,
   "id": "271768eb",
   "metadata": {},
   "outputs": [
    {
     "data": {
      "text/plain": [
       "array([[10, 20, 30, 40],\n",
       "       [50, 60, 70, 80],\n",
       "       [20, 52, 65, 85],\n",
       "       [45, 65, 85, 96]])"
      ]
     },
     "execution_count": 33,
     "metadata": {},
     "output_type": "execute_result"
    }
   ],
   "source": [
    "x"
   ]
  },
  {
   "cell_type": "code",
   "execution_count": 34,
   "id": "e228fb5a",
   "metadata": {},
   "outputs": [
    {
     "data": {
      "text/plain": [
       "array([[50, 60],\n",
       "       [20, 52]])"
      ]
     },
     "execution_count": 34,
     "metadata": {},
     "output_type": "execute_result"
    }
   ],
   "source": [
    "x[1:3,0:2]"
   ]
  },
  {
   "cell_type": "code",
   "execution_count": 35,
   "id": "e29710e7",
   "metadata": {},
   "outputs": [
    {
     "data": {
      "text/plain": [
       "array([40, 80, 85, 96])"
      ]
     },
     "execution_count": 35,
     "metadata": {},
     "output_type": "execute_result"
    }
   ],
   "source": [
    "x[:,-1]#find element of last column of all rows"
   ]
  },
  {
   "cell_type": "code",
   "execution_count": 36,
   "id": "14aadbaf",
   "metadata": {},
   "outputs": [
    {
     "data": {
      "text/plain": [
       "array([100, 260, 222, 291])"
      ]
     },
     "execution_count": 36,
     "metadata": {},
     "output_type": "execute_result"
    }
   ],
   "source": [
    "#to find out the same of rows\n",
    "x.sum(axis=1)#axis=1 is use from left to right "
   ]
  },
  {
   "cell_type": "code",
   "execution_count": 37,
   "id": "f0b0f56c",
   "metadata": {},
   "outputs": [
    {
     "data": {
      "text/plain": [
       "array([125, 197, 250, 301])"
      ]
     },
     "execution_count": 37,
     "metadata": {},
     "output_type": "execute_result"
    }
   ],
   "source": [
    "#to find the sum of column use axis=0\n",
    "x.sum(axis=0)#axis=0 use for top to bottom"
   ]
  },
  {
   "cell_type": "code",
   "execution_count": 38,
   "id": "991c4d16",
   "metadata": {},
   "outputs": [
    {
     "data": {
      "text/plain": [
       "50"
      ]
     },
     "execution_count": 38,
     "metadata": {},
     "output_type": "execute_result"
    }
   ],
   "source": [
    "#to find out the max no. from first column\n",
    "z=x[: ,0]\n",
    "z.max()"
   ]
  },
  {
   "cell_type": "code",
   "execution_count": 39,
   "id": "0b3356a7",
   "metadata": {},
   "outputs": [
    {
     "data": {
      "text/plain": [
       "96"
      ]
     },
     "execution_count": 39,
     "metadata": {},
     "output_type": "execute_result"
    }
   ],
   "source": [
    "x.max()#find out the max no. from whole list"
   ]
  },
  {
   "cell_type": "code",
   "execution_count": 40,
   "id": "912a4bca",
   "metadata": {},
   "outputs": [],
   "source": [
    "#Arithemetic operations on 2D array\n",
    "#sum of 2 marks\n",
    "#subtract of 2 matrix\n",
    "#multiply of 2 matrix"
   ]
  },
  {
   "cell_type": "code",
   "execution_count": 41,
   "id": "fab744ba",
   "metadata": {},
   "outputs": [
    {
     "name": "stdout",
     "output_type": "stream",
     "text": [
      "[[1 2]\n",
      " [3 4]]\n"
     ]
    }
   ],
   "source": [
    "#create a A matrix 2*2\n",
    "x=np.array([[1,2],[3,4]])\n",
    "print(x)"
   ]
  },
  {
   "cell_type": "code",
   "execution_count": 42,
   "id": "f9134ee5",
   "metadata": {},
   "outputs": [
    {
     "name": "stdout",
     "output_type": "stream",
     "text": [
      "[[5 6]\n",
      " [7 8]]\n"
     ]
    }
   ],
   "source": [
    "#create a B matrix 2*2\n",
    "z=np.array([[5,6],[7,8]])\n",
    "print(z)"
   ]
  },
  {
   "cell_type": "code",
   "execution_count": 43,
   "id": "8c10d5dd",
   "metadata": {},
   "outputs": [
    {
     "data": {
      "text/plain": [
       "array([[ 6,  8],\n",
       "       [10, 12]])"
      ]
     },
     "execution_count": 43,
     "metadata": {},
     "output_type": "execute_result"
    }
   ],
   "source": [
    "x+z"
   ]
  },
  {
   "cell_type": "code",
   "execution_count": 44,
   "id": "c3a48d43",
   "metadata": {},
   "outputs": [
    {
     "data": {
      "text/plain": [
       "array([[-4, -4],\n",
       "       [-4, -4]])"
      ]
     },
     "execution_count": 44,
     "metadata": {},
     "output_type": "execute_result"
    }
   ],
   "source": [
    "x-z"
   ]
  },
  {
   "cell_type": "code",
   "execution_count": 45,
   "id": "5e624f02",
   "metadata": {},
   "outputs": [
    {
     "data": {
      "text/plain": [
       "array([[ 5, 12],\n",
       "       [21, 32]])"
      ]
     },
     "execution_count": 45,
     "metadata": {},
     "output_type": "execute_result"
    }
   ],
   "source": [
    "#cross multiply\n",
    "x*z"
   ]
  },
  {
   "cell_type": "code",
   "execution_count": 46,
   "id": "669a125f",
   "metadata": {},
   "outputs": [
    {
     "data": {
      "text/plain": [
       "array([[19, 22],\n",
       "       [43, 50]])"
      ]
     },
     "execution_count": 46,
     "metadata": {},
     "output_type": "execute_result"
    }
   ],
   "source": [
    "#dot multiply menas row * column for dot()\n",
    "x.dot(z)"
   ]
  },
  {
   "cell_type": "code",
   "execution_count": 47,
   "id": "b60141f7",
   "metadata": {},
   "outputs": [
    {
     "name": "stdout",
     "output_type": "stream",
     "text": [
      "[[10 20 30]\n",
      " [40 50 60]\n",
      " [59 49 60]]\n"
     ]
    }
   ],
   "source": [
    "#converts 2D array into 1D array ,numpy provides 3 inbuilt function\n",
    "#1.ravel() 2.flatten 3.reshape(-1)\n",
    "#suppose we have 2D array\n",
    "a=np.array([[10,20,30],[40,50,60],[59,49,60]])\n",
    "print(a)"
   ]
  },
  {
   "cell_type": "code",
   "execution_count": 48,
   "id": "576d1104",
   "metadata": {},
   "outputs": [
    {
     "data": {
      "text/plain": [
       "array([[10, 20, 30],\n",
       "       [40, 50, 60],\n",
       "       [59, 49, 60]])"
      ]
     },
     "execution_count": 48,
     "metadata": {},
     "output_type": "execute_result"
    }
   ],
   "source": [
    "a"
   ]
  },
  {
   "cell_type": "code",
   "execution_count": 49,
   "id": "6b2a2255",
   "metadata": {},
   "outputs": [
    {
     "data": {
      "text/plain": [
       "array([10, 20, 30, 40, 50, 60, 59, 49, 60])"
      ]
     },
     "execution_count": 49,
     "metadata": {},
     "output_type": "execute_result"
    }
   ],
   "source": [
    "#convert 2D array into 1D \n",
    "a.ravel()"
   ]
  },
  {
   "cell_type": "code",
   "execution_count": 50,
   "id": "d89c2b1c",
   "metadata": {},
   "outputs": [
    {
     "data": {
      "text/plain": [
       "array([10, 20, 30, 40, 50, 60, 59, 49, 60])"
      ]
     },
     "execution_count": 50,
     "metadata": {},
     "output_type": "execute_result"
    }
   ],
   "source": [
    "a.flatten()"
   ]
  },
  {
   "cell_type": "code",
   "execution_count": 51,
   "id": "c0f8a709",
   "metadata": {},
   "outputs": [
    {
     "data": {
      "text/plain": [
       "array([10, 20, 30, 40, 50, 60, 59, 49, 60])"
      ]
     },
     "execution_count": 51,
     "metadata": {},
     "output_type": "execute_result"
    }
   ],
   "source": [
    "a.reshape(-1)"
   ]
  },
  {
   "cell_type": "code",
   "execution_count": 52,
   "id": "4328232c",
   "metadata": {},
   "outputs": [
    {
     "name": "stdout",
     "output_type": "stream",
     "text": [
      "[10 11 12 13 14 15 16 17 18 19]\n"
     ]
    }
   ],
   "source": [
    "# change 1D array into 2D array\n",
    "#np.reshape(rows,column)\n",
    "#create a 1D array\n",
    "a=np.arange(10,20,1)\n",
    "print(a)"
   ]
  },
  {
   "cell_type": "code",
   "execution_count": 53,
   "id": "e6d97eaf",
   "metadata": {},
   "outputs": [
    {
     "data": {
      "text/plain": [
       "10"
      ]
     },
     "execution_count": 53,
     "metadata": {},
     "output_type": "execute_result"
    }
   ],
   "source": [
    "len(a)"
   ]
  },
  {
   "cell_type": "code",
   "execution_count": 54,
   "id": "3e9920da",
   "metadata": {},
   "outputs": [],
   "source": [
    "#change 1D array into 2D array\n",
    "#a.reshape(2,4)#2 no. of rows and 5 no. of column"
   ]
  },
  {
   "cell_type": "code",
   "execution_count": 55,
   "id": "03e644a6",
   "metadata": {},
   "outputs": [
    {
     "data": {
      "text/plain": [
       "array([10, 11, 12, 13, 14, 15, 16, 17, 18, 19])"
      ]
     },
     "execution_count": 55,
     "metadata": {},
     "output_type": "execute_result"
    }
   ],
   "source": [
    "a"
   ]
  },
  {
   "cell_type": "code",
   "execution_count": 56,
   "id": "ff9efc19",
   "metadata": {},
   "outputs": [
    {
     "data": {
      "text/plain": [
       "array([False,  True, False,  True, False,  True, False,  True, False,\n",
       "        True])"
      ]
     },
     "execution_count": 56,
     "metadata": {},
     "output_type": "execute_result"
    }
   ],
   "source": [
    "a%2!=0 #odd no. returns false"
   ]
  },
  {
   "cell_type": "code",
   "execution_count": 57,
   "id": "ad7d1c5a",
   "metadata": {},
   "outputs": [
    {
     "data": {
      "text/plain": [
       "array([11, 13, 15, 17, 19])"
      ]
     },
     "execution_count": 57,
     "metadata": {},
     "output_type": "execute_result"
    }
   ],
   "source": [
    "#access the value of odd no. which return no. and not false\n",
    "a[a%2!=0]"
   ]
  },
  {
   "cell_type": "code",
   "execution_count": 58,
   "id": "018ad392",
   "metadata": {},
   "outputs": [
    {
     "name": "stdout",
     "output_type": "stream",
     "text": [
      "11\n",
      "13\n",
      "15\n",
      "17\n",
      "19\n"
     ]
    }
   ],
   "source": [
    "# with use of for loop\n",
    "for i in a:\n",
    "    if i%2!=0:\n",
    "        print(i)# and for horizontal use print(i,end=' ')"
   ]
  },
  {
   "cell_type": "code",
   "execution_count": 59,
   "id": "e79c83c2",
   "metadata": {},
   "outputs": [
    {
     "data": {
      "text/plain": [
       "array([False,  True, False,  True, False,  True, False,  True, False,\n",
       "        True])"
      ]
     },
     "execution_count": 59,
     "metadata": {},
     "output_type": "execute_result"
    }
   ],
   "source": [
    "#np.where(condition,True,False)\n",
    "np.where(a%2!=0,True,False)"
   ]
  },
  {
   "cell_type": "code",
   "execution_count": 60,
   "id": "9948e323",
   "metadata": {},
   "outputs": [
    {
     "name": "stdout",
     "output_type": "stream",
     "text": [
      "['' '11' '' '13' '' '15' '' '17' '' '19']\n"
     ]
    }
   ],
   "source": [
    "b=np.where(a%2!=0,a,'')\n",
    "print(b)"
   ]
  },
  {
   "cell_type": "code",
   "execution_count": 61,
   "id": "3ecd0ccf",
   "metadata": {},
   "outputs": [
    {
     "name": "stdout",
     "output_type": "stream",
     "text": [
      "a matrix\n",
      "[[20 40 50]\n",
      " [45 67 89]\n",
      " [60 50 60]\n",
      " [40 50 90]]\n",
      "b matrix\n",
      "[[50 60 70]\n",
      " [40 50 60]\n",
      " [54 34 56]]\n"
     ]
    }
   ],
   "source": [
    "#create a 2D array\n",
    "a=np.array([[20,40,50],[45,67,89],[60,50,60],[40,50,90]])\n",
    "b=np.array([[50,60,70],[40,50,60],[54,34,56]])\n",
    "print('a matrix')\n",
    "print(a)\n",
    "print('b matrix')\n",
    "print(b)"
   ]
  },
  {
   "cell_type": "code",
   "execution_count": 62,
   "id": "a3cc4803",
   "metadata": {},
   "outputs": [
    {
     "data": {
      "text/plain": [
       "array([[20, 40, 50],\n",
       "       [45, 67, 89],\n",
       "       [60, 50, 60],\n",
       "       [40, 50, 90],\n",
       "       [50, 60, 70],\n",
       "       [40, 50, 60],\n",
       "       [54, 34, 56]])"
      ]
     },
     "execution_count": 62,
     "metadata": {},
     "output_type": "execute_result"
    }
   ],
   "source": [
    "#to join 2 matrix A and B means use concatenate() method of numpy\n",
    "#array\n",
    "#concatenate means merge\n",
    "np.concatenate((a,b),axis=0) #by default axis=0 if did not given"
   ]
  },
  {
   "cell_type": "code",
   "execution_count": 63,
   "id": "956066f9",
   "metadata": {},
   "outputs": [
    {
     "name": "stdout",
     "output_type": "stream",
     "text": [
      "[[50 60 70]\n",
      " [40 50 60]\n",
      " [54 34 56]\n",
      " [90 45 65]]\n"
     ]
    }
   ],
   "source": [
    "c=np.array([[50,60,70],[40,50,60],[54,34,56],[90,45,65]])\n",
    "print(c)"
   ]
  },
  {
   "cell_type": "code",
   "execution_count": 64,
   "id": "b10c80c4",
   "metadata": {},
   "outputs": [
    {
     "name": "stdout",
     "output_type": "stream",
     "text": [
      "[[20 40 50]\n",
      " [45 67 89]\n",
      " [60 50 60]\n",
      " [40 50 90]]\n"
     ]
    }
   ],
   "source": [
    "print(a)"
   ]
  },
  {
   "cell_type": "code",
   "execution_count": 65,
   "id": "020333be",
   "metadata": {},
   "outputs": [
    {
     "data": {
      "text/plain": [
       "array([[20, 40, 50, 50, 60, 70],\n",
       "       [45, 67, 89, 40, 50, 60],\n",
       "       [60, 50, 60, 54, 34, 56],\n",
       "       [40, 50, 90, 90, 45, 65]])"
      ]
     },
     "execution_count": 65,
     "metadata": {},
     "output_type": "execute_result"
    }
   ],
   "source": [
    "np.concatenate((a,c),axis=1)"
   ]
  },
  {
   "cell_type": "code",
   "execution_count": 66,
   "id": "64777de3",
   "metadata": {},
   "outputs": [
    {
     "name": "stdout",
     "output_type": "stream",
     "text": [
      "[[20 40 50]\n",
      " [45 67 89]\n",
      " [60 50 60]\n",
      " [40 50 90]]\n"
     ]
    }
   ],
   "source": [
    "print(a)"
   ]
  },
  {
   "cell_type": "code",
   "execution_count": 67,
   "id": "c22b7c7f",
   "metadata": {},
   "outputs": [
    {
     "name": "stdout",
     "output_type": "stream",
     "text": [
      "[[50 80 70]\n",
      " [40 90 60]\n",
      " [54 34 56]\n",
      " [90 45 65]]\n"
     ]
    }
   ],
   "source": [
    "#create a 2d array\n",
    "a=np.array([[50,80,70],[40,90,60],[54,34,56],[90,45,65]])\n",
    "print(a)"
   ]
  },
  {
   "cell_type": "code",
   "execution_count": 68,
   "id": "56f14194",
   "metadata": {},
   "outputs": [],
   "source": [
    "#sort() means to arrange records in ascending order\n",
    "#by default axis=1 means row wise\n",
    "a.sort()"
   ]
  },
  {
   "cell_type": "code",
   "execution_count": 69,
   "id": "2aeb8de2",
   "metadata": {},
   "outputs": [
    {
     "name": "stdout",
     "output_type": "stream",
     "text": [
      "[[50 70 80]\n",
      " [40 60 90]\n",
      " [34 54 56]\n",
      " [45 65 90]]\n"
     ]
    }
   ],
   "source": [
    "print(a)"
   ]
  },
  {
   "cell_type": "code",
   "execution_count": 1,
   "id": "b25bbc5d",
   "metadata": {},
   "outputs": [
    {
     "ename": "NameError",
     "evalue": "name 'a' is not defined",
     "output_type": "error",
     "traceback": [
      "\u001b[1;31m---------------------------------------------------------------------------\u001b[0m",
      "\u001b[1;31mNameError\u001b[0m                                 Traceback (most recent call last)",
      "\u001b[1;32m<ipython-input-1-d88930b9e7d5>\u001b[0m in \u001b[0;36m<module>\u001b[1;34m\u001b[0m\n\u001b[1;32m----> 1\u001b[1;33m \u001b[0ma\u001b[0m\u001b[1;33m.\u001b[0m\u001b[0msort\u001b[0m\u001b[1;33m(\u001b[0m\u001b[0maxis\u001b[0m\u001b[1;33m=\u001b[0m\u001b[1;36m0\u001b[0m\u001b[1;33m)\u001b[0m\u001b[1;33m\u001b[0m\u001b[1;33m\u001b[0m\u001b[0m\n\u001b[0m",
      "\u001b[1;31mNameError\u001b[0m: name 'a' is not defined"
     ]
    }
   ],
   "source": [
    "a.sort(axis=0)"
   ]
  },
  {
   "cell_type": "code",
   "execution_count": 71,
   "id": "894491f4",
   "metadata": {},
   "outputs": [
    {
     "data": {
      "text/plain": [
       "array([[34, 54, 56],\n",
       "       [40, 60, 80],\n",
       "       [45, 65, 90],\n",
       "       [50, 70, 90]])"
      ]
     },
     "execution_count": 71,
     "metadata": {},
     "output_type": "execute_result"
    }
   ],
   "source": [
    "a"
   ]
  },
  {
   "cell_type": "code",
   "execution_count": 72,
   "id": "350ac04b",
   "metadata": {},
   "outputs": [
    {
     "data": {
      "text/plain": [
       "array([[56, 54, 34],\n",
       "       [80, 60, 40],\n",
       "       [90, 65, 45],\n",
       "       [90, 70, 50]])"
      ]
     },
     "execution_count": 72,
     "metadata": {},
     "output_type": "execute_result"
    }
   ],
   "source": [
    "a[::,::-1]#to reverse the column"
   ]
  },
  {
   "cell_type": "code",
   "execution_count": 73,
   "id": "a370afb1",
   "metadata": {},
   "outputs": [
    {
     "name": "stdout",
     "output_type": "stream",
     "text": [
      "[0. 0. 0. 0. 0. 0. 0. 0. 0. 0.]\n"
     ]
    }
   ],
   "source": [
    "#special type of array\n",
    "#1.zeros() array 2.ones() array 3.empty() array\n",
    "z=np.zeros(10)\n",
    "print(z)#returns in float"
   ]
  },
  {
   "cell_type": "code",
   "execution_count": 74,
   "id": "d5729bca",
   "metadata": {},
   "outputs": [
    {
     "name": "stdout",
     "output_type": "stream",
     "text": [
      "[0 0 0 0 0 0 0 0 0 0]\n"
     ]
    }
   ],
   "source": [
    "z=np.zeros(10,int)\n",
    "print(z) #with the use of int we can remove decimal point"
   ]
  },
  {
   "cell_type": "code",
   "execution_count": 75,
   "id": "53e553c7",
   "metadata": {},
   "outputs": [
    {
     "name": "stdout",
     "output_type": "stream",
     "text": [
      "[      0       1       0 7143525    1052       0     768   32763 3801155\n",
      " 5701724]\n"
     ]
    }
   ],
   "source": [
    "x=np.empty(10,int)\n",
    "print(x)"
   ]
  },
  {
   "cell_type": "code",
   "execution_count": 76,
   "id": "8d5cf55a",
   "metadata": {},
   "outputs": [
    {
     "name": "stdout",
     "output_type": "stream",
     "text": [
      "[1. 1. 1. 1. 1. 1. 1. 1. 1. 1. 1. 1.]\n"
     ]
    }
   ],
   "source": [
    "y=np.ones(12)\n",
    "print(y)"
   ]
  },
  {
   "cell_type": "code",
   "execution_count": 77,
   "id": "2f35ea20",
   "metadata": {},
   "outputs": [
    {
     "name": "stdout",
     "output_type": "stream",
     "text": [
      "[0 0 0 0 0 0 0 0]\n"
     ]
    }
   ],
   "source": [
    "#create a zeros 1D array\n",
    "z=np.zeros(8,int)#by default type float\n",
    "print(z)"
   ]
  },
  {
   "cell_type": "code",
   "execution_count": 78,
   "id": "f1770d2e",
   "metadata": {},
   "outputs": [
    {
     "name": "stdout",
     "output_type": "stream",
     "text": [
      "[ 0  0 90  0  0  0  0  0]\n"
     ]
    }
   ],
   "source": [
    "#updaat the value at 2nd index with new value 90\n",
    "z[2]=90\n",
    "print(z)"
   ]
  },
  {
   "cell_type": "code",
   "execution_count": 79,
   "id": "d3897bab",
   "metadata": {},
   "outputs": [
    {
     "name": "stdout",
     "output_type": "stream",
     "text": [
      "[[0. 0. 0.]\n",
      " [0. 0. 0.]]\n"
     ]
    }
   ],
   "source": [
    "#create 2D zeros array\n",
    "a=np.zeros((2,3))\n",
    "print(a)"
   ]
  },
  {
   "cell_type": "code",
   "execution_count": 80,
   "id": "a91cb862",
   "metadata": {},
   "outputs": [
    {
     "name": "stdout",
     "output_type": "stream",
     "text": [
      "[[1. 1. 1.]\n",
      " [1. 1. 1.]]\n"
     ]
    }
   ],
   "source": [
    "#create 2D ones array\n",
    "a=np.ones((2,3))\n",
    "print(a)"
   ]
  },
  {
   "cell_type": "code",
   "execution_count": 81,
   "id": "5df6555a",
   "metadata": {},
   "outputs": [
    {
     "name": "stdout",
     "output_type": "stream",
     "text": [
      "[[0.00000000e+000 0.00000000e+000 0.00000000e+000]\n",
      " [0.00000000e+000 0.00000000e+000 7.19359580e-321]\n",
      " [7.44820523e-312 7.44820523e-312 4.94065646e-324]]\n"
     ]
    }
   ],
   "source": [
    "#create empty 2D array\n",
    "a=np.empty((3,3))#byn default type float\n",
    "print(a)"
   ]
  },
  {
   "cell_type": "code",
   "execution_count": 82,
   "id": "e6887bde",
   "metadata": {},
   "outputs": [
    {
     "name": "stdout",
     "output_type": "stream",
     "text": [
      "[[1. 0.]\n",
      " [0. 1.]]\n"
     ]
    }
   ],
   "source": [
    "#indentity matrixis always 2D\n",
    "i=np.identity(2)\n",
    "print(i)"
   ]
  },
  {
   "cell_type": "code",
   "execution_count": 83,
   "id": "976de089",
   "metadata": {},
   "outputs": [
    {
     "name": "stdout",
     "output_type": "stream",
     "text": [
      "[[1 0 0]\n",
      " [0 1 0]\n",
      " [0 0 1]]\n"
     ]
    }
   ],
   "source": [
    "#eye\n",
    "i=np.eye(3,dtype=int)\n",
    "print(i)"
   ]
  },
  {
   "cell_type": "code",
   "execution_count": 84,
   "id": "8e453407",
   "metadata": {},
   "outputs": [
    {
     "data": {
      "text/plain": [
       "array([0., 0., 0., 0., 0.])"
      ]
     },
     "execution_count": 84,
     "metadata": {},
     "output_type": "execute_result"
    }
   ],
   "source": [
    "a=np.empty(5)\n",
    "a"
   ]
  },
  {
   "cell_type": "code",
   "execution_count": 85,
   "id": "ff86c5fe",
   "metadata": {},
   "outputs": [
    {
     "data": {
      "text/plain": [
       "array([26., 26., 26., 26., 26.])"
      ]
     },
     "execution_count": 85,
     "metadata": {},
     "output_type": "execute_result"
    }
   ],
   "source": [
    "a.fill(26)\n",
    "a"
   ]
  },
  {
   "cell_type": "code",
   "execution_count": 86,
   "id": "e45d9f48",
   "metadata": {},
   "outputs": [
    {
     "name": "stdout",
     "output_type": "stream",
     "text": [
      "[26 26 26 26 26]\n"
     ]
    }
   ],
   "source": [
    "a=np.full(5,26)#we can create this without making empty and fill \n",
    "print(a)"
   ]
  },
  {
   "cell_type": "code",
   "execution_count": 87,
   "id": "d4799cd8",
   "metadata": {},
   "outputs": [
    {
     "name": "stdout",
     "output_type": "stream",
     "text": [
      "[[10 20 30]\n",
      " [40 50 60]\n",
      " [70 80 90]]\n"
     ]
    }
   ],
   "source": [
    "#broadcasting\n",
    "a=np.array([[10,20,30],[40,50,60],[70,80,90]])\n",
    "print(a)"
   ]
  },
  {
   "cell_type": "code",
   "execution_count": 88,
   "id": "fc45ec58",
   "metadata": {},
   "outputs": [
    {
     "name": "stdout",
     "output_type": "stream",
     "text": [
      "[5 6 7]\n"
     ]
    }
   ],
   "source": [
    "#cretae a vector means 1D array\n",
    "b=np.array([5,6,7])\n",
    "print(b)"
   ]
  },
  {
   "cell_type": "code",
   "execution_count": 89,
   "id": "0d71082c",
   "metadata": {},
   "outputs": [
    {
     "data": {
      "text/plain": [
       "array([[15, 26, 37],\n",
       "       [45, 56, 67],\n",
       "       [75, 86, 97]])"
      ]
     },
     "execution_count": 89,
     "metadata": {},
     "output_type": "execute_result"
    }
   ],
   "source": [
    "a+b #add the value oF 1D array and vector"
   ]
  },
  {
   "cell_type": "code",
   "execution_count": null,
   "id": "4892aea5",
   "metadata": {},
   "outputs": [],
   "source": []
  },
  {
   "cell_type": "code",
   "execution_count": null,
   "id": "e59ef8f2",
   "metadata": {},
   "outputs": [],
   "source": []
  }
 ],
 "metadata": {
  "kernelspec": {
   "display_name": "Python 3",
   "language": "python",
   "name": "python3"
  },
  "language_info": {
   "codemirror_mode": {
    "name": "ipython",
    "version": 3
   },
   "file_extension": ".py",
   "mimetype": "text/x-python",
   "name": "python",
   "nbconvert_exporter": "python",
   "pygments_lexer": "ipython3",
   "version": "3.8.8"
  }
 },
 "nbformat": 4,
 "nbformat_minor": 5
}
